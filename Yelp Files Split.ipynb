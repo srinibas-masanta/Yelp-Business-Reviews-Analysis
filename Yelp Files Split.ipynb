{
 "cells": [
  {
   "cell_type": "code",
   "execution_count": 1,
   "id": "cd6665c5-b64b-4d20-8ee8-5a4358c9cf5b",
   "metadata": {},
   "outputs": [
    {
     "name": "stdout",
     "output_type": "stream",
     "text": [
      "Total lines: 6990280, Base lines per file: 699028, Extra lines: 0\n",
      "✅ Created split_file_1.json with 699028 lines\n",
      "✅ Created split_file_2.json with 699028 lines\n",
      "✅ Created split_file_3.json with 699028 lines\n",
      "✅ Created split_file_4.json with 699028 lines\n",
      "✅ Created split_file_5.json with 699028 lines\n",
      "✅ Created split_file_6.json with 699028 lines\n",
      "✅ Created split_file_7.json with 699028 lines\n",
      "✅ Created split_file_8.json with 699028 lines\n",
      "✅ Created split_file_9.json with 699028 lines\n",
      "✅ Created split_file_10.json with 699028 lines\n",
      "🎉 JSON file successfully split into smaller parts!\n"
     ]
    }
   ],
   "source": [
    "import json\n",
    "\n",
    "input_file = \"yelp_academic_dataset_review.json\"  # Large JSON file\n",
    "output_prefix = \"split_file_\"  # Output file prefix\n",
    "num_files = 10  # Number of split files\n",
    "\n",
    "# Step 1: Count total lines (JSON objects)\n",
    "with open(input_file, \"r\", encoding=\"utf8\") as f:\n",
    "    total_lines = sum(1 for _ in f)\n",
    "\n",
    "# Step 2: Determine lines per file, handling remainder\n",
    "base_lines_per_file = total_lines // num_files  # Minimum lines per file\n",
    "extra_lines = total_lines % num_files  # Remaining lines to distribute\n",
    "\n",
    "print(f\"Total lines: {total_lines}, Base lines per file: {base_lines_per_file}, Extra lines: {extra_lines}\")\n",
    "\n",
    "# Step 3: Split into smaller files\n",
    "with open(input_file, \"r\", encoding=\"utf8\") as f:\n",
    "    for i in range(num_files):\n",
    "        output_filename = f\"{output_prefix}{i+1}.json\"\n",
    "\n",
    "        # Assign one extra line to the first 'extra_lines' files\n",
    "        lines_to_write = base_lines_per_file + (1 if i < extra_lines else 0)\n",
    "\n",
    "        with open(output_filename, \"w\", encoding=\"utf8\") as out_file:\n",
    "            for _ in range(lines_to_write):\n",
    "                line = f.readline()\n",
    "                if not line:\n",
    "                    break  # Stop if file ends early\n",
    "                out_file.write(line)\n",
    "\n",
    "        print(f\"✅ Created {output_filename} with {lines_to_write} lines\")\n",
    "\n",
    "print(\"🎉 JSON file successfully split into smaller parts!\")"
   ]
  }
 ],
 "metadata": {
  "kernelspec": {
   "display_name": "Python 3 (ipykernel)",
   "language": "python",
   "name": "python3"
  },
  "language_info": {
   "codemirror_mode": {
    "name": "ipython",
    "version": 3
   },
   "file_extension": ".py",
   "mimetype": "text/x-python",
   "name": "python",
   "nbconvert_exporter": "python",
   "pygments_lexer": "ipython3",
   "version": "3.12.4"
  }
 },
 "nbformat": 4,
 "nbformat_minor": 5
}
